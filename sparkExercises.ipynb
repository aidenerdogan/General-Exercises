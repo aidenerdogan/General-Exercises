{
 "cells": [
  {
   "cell_type": "code",
   "execution_count": 2,
   "id": "79258d7d",
   "metadata": {},
   "outputs": [],
   "source": [
    "from pyspark.sql import SparkSession as ss\n",
    "from pyspark.sql.functions import *"
   ]
  },
  {
   "cell_type": "code",
   "execution_count": 3,
   "id": "111ba09a",
   "metadata": {},
   "outputs": [],
   "source": [
    "#Initialize the Spark Session\n",
    "spark = ss.builder.master(\"local\")\\\n",
    "            .config(\"spark.sql.autoBroadcastJoinTreshold\", -1)\\\n",
    "            .config(\"spark.executer.memory\",\"500mb\")\\\n",
    "            .appName(\"Exercise1\")\\\n",
    "            .getOrCreate()"
   ]
  },
  {
   "cell_type": "markdown",
   "id": "9c824cb8",
   "metadata": {},
   "source": [
    "# Extract"
   ]
  },
  {
   "cell_type": "code",
   "execution_count": 4,
   "id": "1d7900e0",
   "metadata": {},
   "outputs": [],
   "source": [
    "#Read the source tables from Parquet format\n",
    "products_table = spark.read.parquet(\"products_parquet\")\n",
    "sales_table = spark.read.parquet(\"sales_parquet\")\n",
    "sellers_table = spark.read.parquet(\"sellers_parquet\")"
   ]
  },
  {
   "cell_type": "code",
   "execution_count": 15,
   "id": "8119dad3",
   "metadata": {},
   "outputs": [
    {
     "name": "stdout",
     "output_type": "stream",
     "text": [
      "+----------+------------+-----+\n",
      "|product_id|product_name|price|\n",
      "+----------+------------+-----+\n",
      "|         0|   product_0|   22|\n",
      "|         1|   product_1|   30|\n",
      "|         2|   product_2|   91|\n",
      "|         3|   product_3|   37|\n",
      "|         4|   product_4|  145|\n",
      "+----------+------------+-----+\n",
      "only showing top 5 rows\n",
      "\n"
     ]
    }
   ],
   "source": [
    "products_table.show(5)"
   ]
  },
  {
   "cell_type": "code",
   "execution_count": 16,
   "id": "0836050b",
   "metadata": {},
   "outputs": [
    {
     "name": "stdout",
     "output_type": "stream",
     "text": [
      "+--------+----------+---------+----------+---------------+--------------------+\n",
      "|order_id|product_id|seller_id|      date|num_pieces_sold|       bill_raw_text|\n",
      "+--------+----------+---------+----------+---------------+--------------------+\n",
      "|       1|         0|        0|2020-07-10|             26|kyeibuumwlyhuwksx...|\n",
      "|       2|         0|        0|2020-07-08|             13|jfyuoyfkeyqkckwbu...|\n",
      "|       3|         0|        0|2020-07-05|             38|uyjihlzhzcswxcccx...|\n",
      "|       4|         0|        0|2020-07-05|             56|umnxvoqbdzpbwjqmz...|\n",
      "|       5|         0|        0|2020-07-05|             11|zmqexmaawmvdpqhih...|\n",
      "+--------+----------+---------+----------+---------------+--------------------+\n",
      "only showing top 5 rows\n",
      "\n"
     ]
    }
   ],
   "source": [
    "sales_table.show(5)"
   ]
  },
  {
   "cell_type": "code",
   "execution_count": 17,
   "id": "723b7c66",
   "metadata": {},
   "outputs": [
    {
     "name": "stdout",
     "output_type": "stream",
     "text": [
      "+---------+-----------+------------+\n",
      "|seller_id|seller_name|daily_target|\n",
      "+---------+-----------+------------+\n",
      "|        0|   seller_0|     2500000|\n",
      "|        1|   seller_1|      257237|\n",
      "|        2|   seller_2|      754188|\n",
      "|        3|   seller_3|      310462|\n",
      "|        4|   seller_4|     1532808|\n",
      "|        5|   seller_5|     1199693|\n",
      "|        6|   seller_6|     1055915|\n",
      "|        7|   seller_7|     1946998|\n",
      "|        8|   seller_8|      547320|\n",
      "|        9|   seller_9|     1318051|\n",
      "+---------+-----------+------------+\n",
      "\n"
     ]
    }
   ],
   "source": [
    "sellers_table.show()"
   ]
  },
  {
   "cell_type": "markdown",
   "id": "963cd017",
   "metadata": {},
   "source": [
    "# Warm-up 1\n",
    "\n",
    "- Find out how many orders, how many products and how many sellers are in the data."
   ]
  },
  {
   "cell_type": "code",
   "execution_count": 6,
   "id": "7fb67e14",
   "metadata": {},
   "outputs": [
    {
     "name": "stdout",
     "output_type": "stream",
     "text": [
      "Products Number: 75000000\n",
      "Sales Numbers: 20000040\n",
      "Sellers Numbers: 10\n"
     ]
    }
   ],
   "source": [
    "print(\"Products Number: {}\".format(products_table.count()))\n",
    "print(\"Sales Numbers: {}\".format(sales_table.count()))\n",
    "print(\"Sellers Numbers: {}\".format(sellers_table.count()))"
   ]
  },
  {
   "cell_type": "markdown",
   "id": "2ded7f1e",
   "metadata": {},
   "source": [
    "- How many products have been sold at least once? Which is the product contained in more orders?\n",
    "\n",
    "As you can see, we have 75,000,000 products in our dataset and 20,000,040 orders: since each order can only have a single product, some of them have never been sold. Let’s find out how many products appear at least once and which is the product contained in more orders:"
   ]
  },
  {
   "cell_type": "code",
   "execution_count": 8,
   "id": "c517dc0a",
   "metadata": {},
   "outputs": [
    {
     "name": "stdout",
     "output_type": "stream",
     "text": [
      "Products have been sold at least onece!\n",
      "+-----------------+\n",
      "|count(Product_id)|\n",
      "+-----------------+\n",
      "|           993429|\n",
      "+-----------------+\n",
      "\n"
     ]
    }
   ],
   "source": [
    "#How many products have been actually sold at least once?\n",
    "print(\"Products have been sold at least onece!\")\n",
    "sales_table.agg(countDistinct(col(\"Product_id\"))).show()"
   ]
  },
  {
   "cell_type": "code",
   "execution_count": 14,
   "id": "682b3386",
   "metadata": {},
   "outputs": [
    {
     "name": "stdout",
     "output_type": "stream",
     "text": [
      "+----------+--------+\n",
      "|product_id|     cnt|\n",
      "+----------+--------+\n",
      "|         0|19000000|\n",
      "|  31136332|       3|\n",
      "|  17944574|       3|\n",
      "+----------+--------+\n",
      "\n"
     ]
    }
   ],
   "source": [
    "#Which product has been sold in more than one orders?\n",
    "sales_table.groupBy(col(\"product_id\")).agg(count(\"*\").alias(\"cnt\")).orderBy(col(\"cnt\").desc()).limit(3).show()"
   ]
  },
  {
   "cell_type": "markdown",
   "id": "8c706798",
   "metadata": {},
   "source": [
    "Let’s have a closer look at the second result: 19,000,000 orders out of 20 M are selling the product with product_id = 0: this is a powerful information that we should use later!"
   ]
  },
  {
   "cell_type": "markdown",
   "id": "260da8e5",
   "metadata": {},
   "source": [
    "# Warm-up 2\n",
    "\n",
    "How many distinct products have been sold in each day?"
   ]
  },
  {
   "cell_type": "code",
   "execution_count": 18,
   "id": "d2fba1af",
   "metadata": {},
   "outputs": [
    {
     "name": "stdout",
     "output_type": "stream",
     "text": [
      "+----------+--------------------+\n",
      "|      date|disrinctProductsSold|\n",
      "+----------+--------------------+\n",
      "|2020-07-06|              100765|\n",
      "|2020-07-09|              100501|\n",
      "|2020-07-01|              100337|\n",
      "|2020-07-03|              100017|\n",
      "|2020-07-02|               99807|\n",
      "|2020-07-05|               99796|\n",
      "|2020-07-04|               99791|\n",
      "|2020-07-07|               99756|\n",
      "|2020-07-08|               99662|\n",
      "|2020-07-10|               98973|\n",
      "+----------+--------------------+\n",
      "\n"
     ]
    }
   ],
   "source": [
    "sales_table.groupBy(col(\"date\")).agg(countDistinct(col(\"product_id\")).alias(\"disrinctProductsSold\")).orderBy(col(\"disrinctProductsSold\").desc()).show()"
   ]
  },
  {
   "cell_type": "markdown",
   "id": "b958a037",
   "metadata": {},
   "source": [
    "# Exercise 1 \n",
    "\n",
    "What is the average revenue of the orders?\n",
    "\n",
    "\n",
    "Revenue = price * quantity"
   ]
  },
  {
   "cell_type": "code",
   "execution_count": 23,
   "id": "9899c832",
   "metadata": {},
   "outputs": [
    {
     "name": "stdout",
     "output_type": "stream",
     "text": [
      "+------------------------------+\n",
      "|avg((price * num_pieces_sold))|\n",
      "+------------------------------+\n",
      "|            1246.1338560822878|\n",
      "+------------------------------+\n",
      "\n"
     ]
    }
   ],
   "source": [
    "# first join then get result\n",
    "sales_table.join(products_table, sales_table[\"product_id\"]==products_table[\"product_id\"], \"inner\").agg(avg(products_table[\"price\"]*sales_table[\"num_pieces_sold\"])).show()"
   ]
  },
  {
   "cell_type": "markdown",
   "id": "e63e3478",
   "metadata": {},
   "source": [
    "The above is correct, and it probably works quite well (especially if you are working on a local environment)\n",
    "\n",
    "- Note that this is not a huge problem in case you are running Spark on a local system. On a distributed environment (and with more data), though, this join could take an incredible amount of time to complete (maybe never complete at all!).\n",
    "\n",
    "Let’s fix this issue using a technique known as “key salting”. I won’t describe in detail since I have already covered the topic in the article linked above. As a summary, what we are going to do is the following:\n",
    "\n",
    "1. Duplicate the entries that we have in the dimension table for the most common products, e.g. product_0 will be replicated creating the IDs: product_0–1, product_0–2, product_0–3 and so on.\n",
    "2. On the sales table, we are going to replace “product_0” with a random replica (e.g. some of them will be replaced with product_0–1, others with product_0–2, etc.) Using the new “salted” key will un-skew the join:\n",
    "\n",
    "\n",
    "The important thing to observe here is that we are NOT salting ALL the products, but only those that drive skewness (in the example we are getting the 100 most frequent products). Salting the whole dataset would be problematic since the number of rows would grow linearly on the “salting factor”:"
   ]
  },
  {
   "cell_type": "code",
   "execution_count": null,
   "id": "cf6c68eb",
   "metadata": {},
   "outputs": [],
   "source": [
    "\"\"\"# Step 1 - Check and select the skewed keys \n",
    "# In this case we are retrieving the top 100 keys: these will be the only salted keys.\n",
    "results = sales_table.groupby(sales_table[\"product_id\"]).count().sort(col(\"count\").desc()).limit(100).collect()\n",
    "\n",
    "# Step 2 - What we want to do is:\n",
    "#  a. Duplicate the entries that we have in the dimension table for the most common products, e.g.\n",
    "#       product_0 will become: product_0-1, product_0-2, product_0-3 and so on\n",
    "#  b. On the sales table, we are going to replace \"product_0\" with a random duplicate (e.g. some of them \n",
    "#     will be replaced with product_0-1, others with product_0-2, etc.)\n",
    "# Using the new \"salted\" key will unskew the join\n",
    "\n",
    "# Let's create a dataset to do the trick\n",
    "REPLICATION_FACTOR = 101\n",
    "l = []\n",
    "replicated_products = []\n",
    "for _r in results:\n",
    "    replicated_products.append(_r[\"product_id\"])\n",
    "    for _rep in range(0, REPLICATION_FACTOR):\n",
    "        l.append((_r[\"product_id\"], _rep))\n",
    "rdd = spark.sparkContext.parallelize(l)\n",
    "replicated_df = rdd.map(lambda x: Row(product_id=x[0], replication=int(x[1])))\n",
    "replicated_df = spark.createDataFrame(replicated_df)\n",
    "\n",
    "#   Step 3: Generate the salted key\n",
    "products_table = products_table.join(broadcast(replicated_df),\n",
    "                                     products_table[\"product_id\"] == replicated_df[\"product_id\"], \"left\"). \\\n",
    "    withColumn(\"salted_join_key\", when(replicated_df[\"replication\"].isNull(), products_table[\"product_id\"]).otherwise(\n",
    "    concat(replicated_df[\"product_id\"], lit(\"-\"), replicated_df[\"replication\"])))\n",
    "\n",
    "sales_table = sales_table.withColumn(\"salted_join_key\", when(sales_table[\"product_id\"].isin(replicated_products),\n",
    "                                                             concat(sales_table[\"product_id\"], lit(\"-\"),\n",
    "                                                                    round(rand() * (REPLICATION_FACTOR - 1), 0).cast(\n",
    "                                                                        IntegerType()))).otherwise(\n",
    "    sales_table[\"product_id\"]))\n",
    "\n",
    "#   Step 4: Finally let's do the join\n",
    "print(sales_table.join(products_table, sales_table[\"salted_join_key\"] == products_table[\"salted_join_key\"],\n",
    "                       \"inner\").\n",
    "      agg(avg(products_table[\"price\"] * sales_table[\"num_pieces_sold\"])).show())\n",
    "\n",
    "print(\"Ok\")\"\"\""
   ]
  },
  {
   "cell_type": "markdown",
   "id": "6397f218",
   "metadata": {},
   "source": [
    "# !!!\n",
    "Using this technique in a local environment could lead to an increase of the execution time; in the real world, though, this trick can make the difference between completing and not completing the join."
   ]
  },
  {
   "attachments": {
    "image-2.png": {
     "image/png": "[encoded data removed]"
    },
    "image.png": {
     "image/png": "[encoded data removed]"
    }
   },
   "cell_type": "markdown",
   "id": "e460c696",
   "metadata": {},
   "source": [
    "# Some Notes About Joning in Spark:\n",
    "\n",
    "Sticking to use cases mentioned above, Spark will perform (or be forced by us to perform) joins in two different ways: either using Sort Merge Joins if we are joining two big tables, or Broadcast Joins if at least one of the datasets involved is small enough to be stored in the memory of the single all executors. Note that there are other types of joins (e.g. Shuffle Hash Joins), but those mentioned earlier are the most common, in particular from Spark 2.3.\n",
    "\n",
    "                                                    SORT MERGE JOINS\n",
    "![image-2.png](attachment:image-2.png)\n",
    "In a Sort Merge Join partitions are sorted on the join key prior to the join operation.\n",
    "\n",
    "\n",
    "---\n",
    "                                                    BROADCAST JOINS\n",
    "![image.png](attachment:image.png)\n",
    "In a Broadcast Join a copy of the small table is sent to all the Executors. Each executor will then perform the join without the need of network communication\n",
    "\n",
    "\n",
    "---\n",
    "\n",
    "Is broadcasting always good for performance? Not at all! If you try to execute the snippets above giving more resources to the cluster (in particular more executors), the non-broadcast version will run faster than the broadcast one! One reason why this happens is because the broadcasting operation is itself quite expensive (it means that all the nodes need to receive a copy of the table), so it’s not surprising that if we increase the amount of executors that need to receive the table, we increase the broadcasting cost, which suddenly may become higher than the join cost itself.\n",
    "\n",
    "---\n",
    "\n",
    "## Takeaways\n",
    "* Joins can be difficult to tune since performance are bound to both the code and the Spark configuration (number of executors, memory, etc.)\n",
    "* Some of the most common issues with joins are all-to-all communication between the nodes and data skewness\n",
    "* We can avoid all-to-all communication using broadcasting of small tables or of medium-sized tables if we have enough memory in the cluster\n",
    "* Broadcasting is not always beneficial to performance: we need to have an eye for the Spark config\n",
    "* Broadcasting can make the code unstable if broadcast tables grow through time\n",
    "* Skewness leads to an uneven workload on the cluster, resulting in a very small subset of tasks to take much longer than the average\n",
    "* There are multiple ways to fight skewness, one is repartitioning.\n",
    "* We can create our own repartitioning key, e.g. using the key salting technique\n",
    "\n",
    "For more inf: https://towardsdatascience.com/the-art-of-joining-in-spark-dcbd33d693c\n"
   ]
  },
  {
   "cell_type": "markdown",
   "id": "4a95bc0b",
   "metadata": {},
   "source": [
    "# Exercise 2\n",
    "\n",
    "\n",
    "For each seller, what is the average % contribution of an order to the seller's daily quota?\n",
    "\n",
    "#Example\n",
    "If Seller_0 with `quota=250` has 3 orders:\n",
    "\n",
    "Order 1: 10 products sold\n",
    "\n",
    "Order 2: 8 products sold\n",
    "\n",
    "Order 3: 7 products sold\n",
    "\n",
    "The average % contribution of orders to the seller's quota would be:\n",
    "\n",
    "Order 1: 10/105 = 0.04\n",
    "\n",
    "Order 2: 8/105 = 0.032\n",
    "\n",
    "Order 3: 7/105 = 0.028\n",
    "\n",
    "Average % Contribution = (0.04+0.032+0.028)/3 = 0.03333\n",
    "\n",
    "\n",
    "\n",
    "\n",
    "---\n",
    "\n",
    "Again, this could generate a skewed join, since even the sellers are not evenly distributed. In this case, though, the solution is much simpler! Since the sellers table is very small, we can broadcast it, making the operations much much faster!\n",
    "\n",
    "\n",
    "“Broadcasting” simply means that a copy of the table is sent to every executor, allowing to “localize” the task. We need to use this operator carefully: when we broadcast a table, we need to be sure that this will not become too-big-to-broadcast in the future, otherwise we’ll start to have Out Of Memory errors later in time (as the broadcast dataset gets bigger)."
   ]
  },
  {
   "cell_type": "code",
   "execution_count": 26,
   "id": "35c05c95",
   "metadata": {},
   "outputs": [],
   "source": [
    "#Initialize the Spark Session\n",
    "spark = ss.builder.master(\"local\")\\\n",
    "            .config(\"spark.sql.autoBroadcastJoinTreshold\", -1)\\\n",
    "            .config(\"spark.executer.memory\",\"3g\")\\\n",
    "            .appName(\"Exercise1\")\\\n",
    "            .getOrCreate()"
   ]
  },
  {
   "cell_type": "code",
   "execution_count": 27,
   "id": "f995c979",
   "metadata": {},
   "outputs": [],
   "source": [
    "#Read the source tables from Parquet format\n",
    "products_table = spark.read.parquet(\"products_parquet\")\n",
    "sales_table = spark.read.parquet(\"sales_parquet\")\n",
    "sellers_table = spark.read.parquet(\"sellers_parquet\")"
   ]
  },
  {
   "cell_type": "code",
   "execution_count": 33,
   "id": "9014aaff",
   "metadata": {},
   "outputs": [
    {
     "name": "stdout",
     "output_type": "stream",
     "text": [
      "+---------+--------------------+\n",
      "|seller_id|          avg(ratio)|\n",
      "+---------+--------------------+\n",
      "|        7|2.595228787788170...|\n",
      "|        3| 1.62888537056594E-4|\n",
      "|        8|9.213030375408861E-5|\n",
      "|        0|2.019885898946922...|\n",
      "|        5|4.211073965904022E-5|\n",
      "|        6|4.782147194369122E-5|\n",
      "|        9|3.837913136180238E-5|\n",
      "|        1|1.964233366461014...|\n",
      "|        4|3.296428039825817E-5|\n",
      "|        2|6.690408001060484E-5|\n",
      "+---------+--------------------+\n",
      "\n"
     ]
    }
   ],
   "source": [
    "#   Wrong way to do this - Skewed \n",
    "#   (Note that Spark will probably broadcast the table anyway, unless we forbid it throug the configuration paramters)\n",
    "sales_table.join(sellers_table, sales_table[\"seller_id\"]==sellers_table[\"seller_id\"], \"inner\").withColumn(\n",
    "    \"ratio\", sales_table[\"num_pieces_sold\"]/sellers_table[\"daily_target\"]).groupBy(\n",
    "    sales_table[\"seller_id\"]).agg(avg(\"ratio\")).show()"
   ]
  },
  {
   "cell_type": "code",
   "execution_count": 30,
   "id": "2c3c1357",
   "metadata": {},
   "outputs": [
    {
     "name": "stdout",
     "output_type": "stream",
     "text": [
      "+---------+--------------------+\n",
      "|seller_id|          avg(ratio)|\n",
      "+---------+--------------------+\n",
      "|        7|2.595228787788170...|\n",
      "|        3| 1.62888537056594E-4|\n",
      "|        8|9.213030375408861E-5|\n",
      "|        0|2.019885898946922...|\n",
      "|        5|4.211073965904022E-5|\n",
      "|        6|4.782147194369122E-5|\n",
      "|        9|3.837913136180238E-5|\n",
      "|        1|1.964233366461014...|\n",
      "|        4|3.296428039825817E-5|\n",
      "|        2|6.690408001060484E-5|\n",
      "+---------+--------------------+\n",
      "\n"
     ]
    }
   ],
   "source": [
    "#   Correct way through broarcasting (all the time broadcast small data)\n",
    "sales_table.join(broadcast(sellers_table), sales_table[\"seller_id\"]==sellers_table[\"seller_id\"], \"inner\").withColumn(\n",
    "    \"ratio\", sales_table[\"num_pieces_sold\"]/sellers_table[\"daily_target\"]).groupBy(\n",
    "    sales_table[\"seller_id\"]).agg(avg(\"ratio\")).show()"
   ]
  },
  {
   "cell_type": "markdown",
   "id": "9bd44a36",
   "metadata": {},
   "source": [
    "# Exercise 3\n",
    "\n",
    "Who are the second most selling and the least selling persons (sellers) for each product? Who are those for product with `product_id = 0`\n",
    "\n",
    "\n",
    "This sounds like window functions! Let’s analyze the question: for each product, we need the second most selling and the least selling employees (sellers): we are probably going to need two rankings, one to get the second and the other one to get the last in the sales chart. We also need to handle some edge cases:\n",
    "\n",
    "\n",
    "* If a product has been sold by only one seller, we’ll put it into a special category (category: Only seller or multiple sellers with the same quantity).\n",
    "* If a product has been sold by more than one seller, but all of them sold the same quantity, we are going to put them in the same category as if they were only a single seller for that product (category: Only seller or multiple sellers with the same quantity).\n",
    "* If the “least selling” is also the “second selling”, we will count it only as “second seller”\n",
    "\n",
    "\n",
    "Let’s draft a strategy:\n",
    "\n",
    "\n",
    "1. We get the sum of sales for each product and seller pairs.\n",
    "2. We add two new ranking columns: one that ranks the products’ sales in descending order and another one that ranks in ascending order.\n",
    "3. We split the dataset obtained in three pieces: one for each case that we want to handle (second top selling, least selling, single selling).\n",
    "4. When calculating the “least selling”, we exclude those products that have a single seller and those where the least selling employee is also the second most selling\n",
    "5. We merge the pieces back together."
   ]
  },
  {
   "cell_type": "code",
   "execution_count": 35,
   "id": "8d1c5278",
   "metadata": {},
   "outputs": [
    {
     "name": "stdout",
     "output_type": "stream",
     "text": [
      "+----------+---------+---------------+\n",
      "|product_id|seller_id|num_pieces_sold|\n",
      "+----------+---------+---------------+\n",
      "|  46681458|        9|           33.0|\n",
      "|  16712495|        9|            9.0|\n",
      "|  51262311|        5|           57.0|\n",
      "|   8370729|        6|           11.0|\n",
      "|  64958710|        5|           93.0|\n",
      "+----------+---------+---------------+\n",
      "only showing top 5 rows\n",
      "\n"
     ]
    }
   ],
   "source": [
    "# Calcuate the number of pieces sold by each seller for each product\n",
    "sales_table = sales_table.groupby(col(\"product_id\"), col(\"seller_id\")). \\\n",
    "    agg(sum(\"num_pieces_sold\").alias(\"num_pieces_sold\"))\n",
    "sales_table.show(5)"
   ]
  },
  {
   "cell_type": "code",
   "execution_count": 40,
   "id": "debf986d",
   "metadata": {},
   "outputs": [],
   "source": [
    "# Create the window functions, one will sort ascending the other one descending. Partition by the product_id\n",
    "# and sort by the pieces sold\n",
    "from pyspark.sql.window import Window\n",
    "\n",
    "window_desc = Window.partitionBy(col(\"product_id\")).orderBy(col(\"num_pieces_sold\").desc())\n",
    "window_asc = Window.partitionBy(col(\"product_id\")).orderBy(col(\"num_pieces_sold\").asc())"
   ]
  },
  {
   "cell_type": "code",
   "execution_count": 41,
   "id": "7ec251a2",
   "metadata": {},
   "outputs": [
    {
     "name": "stdout",
     "output_type": "stream",
     "text": [
      "+----------+---------+---------------+--------+---------+\n",
      "|product_id|seller_id|num_pieces_sold|rank_asc|rank_desc|\n",
      "+----------+---------+---------------+--------+---------+\n",
      "|  10005243|        6|           98.0|       1|        1|\n",
      "|  10023464|        9|           59.0|       1|        1|\n",
      "|  10050363|        6|           18.0|       1|        1|\n",
      "|  10089524|        2|           53.0|       1|        1|\n",
      "|  10122266|        2|           25.0|       1|        1|\n",
      "|  10134574|        3|           28.0|       1|        1|\n",
      "|  10150439|        4|           72.0|       1|        1|\n",
      "|  10158822|        9|           86.0|       1|        1|\n",
      "|  10160884|        7|           89.0|       1|        1|\n",
      "|  10172594|        2|           60.0|       1|        1|\n",
      "|  10175294|        7|           29.0|       1|        1|\n",
      "|   1017716|        9|           82.0|       1|        1|\n",
      "|  10200802|        2|           42.0|       1|        1|\n",
      "|  10215353|        1|           22.0|       1|        1|\n",
      "|  10218345|        4|           98.0|       1|        1|\n",
      "|  10220977|        5|           76.0|       1|        1|\n",
      "|  10255853|        7|           26.0|       1|        1|\n",
      "|  10288525|        6|           63.0|       1|        1|\n",
      "|  10304712|        9|           48.0|       1|        1|\n",
      "|  10324080|        6|            5.0|       1|        1|\n",
      "+----------+---------+---------------+--------+---------+\n",
      "only showing top 20 rows\n",
      "\n"
     ]
    }
   ],
   "source": [
    "# Create a Dense Rank (to avoid holes)\n",
    "sales_table = sales_table.withColumn(\"rank_asc\", dense_rank().over(window_asc)). \\\n",
    "    withColumn(\"rank_desc\", dense_rank().over(window_desc))\n",
    "\n",
    "sales_table.show(5)"
   ]
  },
  {
   "cell_type": "code",
   "execution_count": 42,
   "id": "0d44a0fa",
   "metadata": {},
   "outputs": [
    {
     "name": "stdout",
     "output_type": "stream",
     "text": [
      "+------------------------+-----------------------+--------------------+\n",
      "|single_seller_product_id|single_seller_seller_id|                type|\n",
      "+------------------------+-----------------------+--------------------+\n",
      "|                10005243|                      6|Only seller or mu...|\n",
      "|                10023464|                      9|Only seller or mu...|\n",
      "|                10050363|                      6|Only seller or mu...|\n",
      "|                10089524|                      2|Only seller or mu...|\n",
      "|                10122266|                      2|Only seller or mu...|\n",
      "+------------------------+-----------------------+--------------------+\n",
      "only showing top 5 rows\n",
      "\n"
     ]
    }
   ],
   "source": [
    "# Get products that only have one row OR the products in which multiple sellers sold the same amount\n",
    "# (i.e. all the employees that ever sold the product, sold the same exact amount)\n",
    "single_seller = sales_table.where(col(\"rank_asc\") == col(\"rank_desc\")).select(\n",
    "    col(\"product_id\").alias(\"single_seller_product_id\"), col(\"seller_id\").alias(\"single_seller_seller_id\"),\n",
    "    lit(\"Only seller or multiple sellers with the same results\").alias(\"type\")\n",
    ")\n",
    "\n",
    "single_seller.show(5)"
   ]
  },
  {
   "cell_type": "code",
   "execution_count": 43,
   "id": "7c878979",
   "metadata": {},
   "outputs": [
    {
     "name": "stdout",
     "output_type": "stream",
     "text": [
      "+------------------------+-----------------------+-----------------+\n",
      "|second_seller_product_id|second_seller_seller_id|             type|\n",
      "+------------------------+-----------------------+-----------------+\n",
      "|                12194170|                      3|Second top seller|\n",
      "|                14700981|                      1|Second top seller|\n",
      "|                16113262|                      7|Second top seller|\n",
      "|                17806195|                      5|Second top seller|\n",
      "|                19121475|                      3|Second top seller|\n",
      "+------------------------+-----------------------+-----------------+\n",
      "only showing top 5 rows\n",
      "\n"
     ]
    }
   ],
   "source": [
    "# Get the second top sellers\n",
    "second_seller = sales_table.where(col(\"rank_desc\") == 2).select(\n",
    "    col(\"product_id\").alias(\"second_seller_product_id\"), col(\"seller_id\").alias(\"second_seller_seller_id\"),\n",
    "    lit(\"Second top seller\").alias(\"type\")\n",
    ")\n",
    "\n",
    "second_seller.show(5)"
   ]
  },
  {
   "cell_type": "code",
   "execution_count": 44,
   "id": "8173d77b",
   "metadata": {},
   "outputs": [
    {
     "name": "stdout",
     "output_type": "stream",
     "text": [
      "+----------+---------+------------+\n",
      "|product_id|seller_id|        type|\n",
      "+----------+---------+------------+\n",
      "|  19986717|        1|Least Seller|\n",
      "|  40496308|        5|Least Seller|\n",
      "|  52606213|        7|Least Seller|\n",
      "|  14542470|        5|Least Seller|\n",
      "|  28592106|        5|Least Seller|\n",
      "|  17944574|        8|Least Seller|\n",
      "|  61475460|        7|Least Seller|\n",
      "|   3534470|        3|Least Seller|\n",
      "|  35669461|        4|Least Seller|\n",
      "|  32602520|        9|Least Seller|\n",
      "|  72017876|        1|Least Seller|\n",
      "|  67723231|        5|Least Seller|\n",
      "|  56011040|        5|Least Seller|\n",
      "|  34681047|        5|Least Seller|\n",
      "|  57735075|        9|Least Seller|\n",
      "|  18182299|        7|Least Seller|\n",
      "|  69790381|        5|Least Seller|\n",
      "|  31136332|        9|Least Seller|\n",
      "|  10978356|        7|Least Seller|\n",
      "|  20774718|        9|Least Seller|\n",
      "+----------+---------+------------+\n",
      "only showing top 20 rows\n",
      "\n"
     ]
    }
   ],
   "source": [
    "# Get the least sellers and exclude those rows that are already included in the first piece\n",
    "# We also exclude the \"second top sellers\" that are also \"least sellers\"\n",
    "least_seller = sales_table.where(col(\"rank_asc\") == 1).select(\n",
    "    col(\"product_id\"), col(\"seller_id\"),\n",
    "    lit(\"Least Seller\").alias(\"type\")\n",
    ").join(single_seller, (sales_table[\"seller_id\"] == single_seller[\"single_seller_seller_id\"]) & (\n",
    "        sales_table[\"product_id\"] == single_seller[\"single_seller_product_id\"]), \"left_anti\"). \\\n",
    "    join(second_seller, (sales_table[\"seller_id\"] == second_seller[\"second_seller_seller_id\"]) & (\n",
    "        sales_table[\"product_id\"] == second_seller[\"second_seller_product_id\"]), \"left_anti\")\n",
    "\n",
    "least_seller.show()"
   ]
  },
  {
   "cell_type": "code",
   "execution_count": 45,
   "id": "ddf07a38",
   "metadata": {},
   "outputs": [
    {
     "name": "stdout",
     "output_type": "stream",
     "text": [
      "+----------+---------+------------+\n",
      "|product_id|seller_id|        type|\n",
      "+----------+---------+------------+\n",
      "|  19986717|        1|Least Seller|\n",
      "|  40496308|        5|Least Seller|\n",
      "|  52606213|        7|Least Seller|\n",
      "|  14542470|        5|Least Seller|\n",
      "|  28592106|        5|Least Seller|\n",
      "|  17944574|        8|Least Seller|\n",
      "|  61475460|        7|Least Seller|\n",
      "|   3534470|        3|Least Seller|\n",
      "|  35669461|        4|Least Seller|\n",
      "|  32602520|        9|Least Seller|\n",
      "|  72017876|        1|Least Seller|\n",
      "|  67723231|        5|Least Seller|\n",
      "|  56011040|        5|Least Seller|\n",
      "|  34681047|        5|Least Seller|\n",
      "|  57735075|        9|Least Seller|\n",
      "|  18182299|        7|Least Seller|\n",
      "|  69790381|        5|Least Seller|\n",
      "|  31136332|        9|Least Seller|\n",
      "|  10978356|        7|Least Seller|\n",
      "|  20774718|        9|Least Seller|\n",
      "+----------+---------+------------+\n",
      "only showing top 20 rows\n",
      "\n",
      "+----------+---------+--------------------+\n",
      "|product_id|seller_id|                type|\n",
      "+----------+---------+--------------------+\n",
      "|         0|        0|Only seller or mu...|\n",
      "+----------+---------+--------------------+\n",
      "\n"
     ]
    }
   ],
   "source": [
    "# Union all the pieces\n",
    "union_table = least_seller.select(\n",
    "    col(\"product_id\"),\n",
    "    col(\"seller_id\"),\n",
    "    col(\"type\")\n",
    ").union(second_seller.select(\n",
    "    col(\"second_seller_product_id\").alias(\"product_id\"),\n",
    "    col(\"second_seller_seller_id\").alias(\"seller_id\"),\n",
    "    col(\"type\")\n",
    ")).union(single_seller.select(\n",
    "    col(\"single_seller_product_id\").alias(\"product_id\"),\n",
    "    col(\"single_seller_seller_id\").alias(\"seller_id\"),\n",
    "    col(\"type\")\n",
    "))\n",
    "union_table.show()\n",
    "\n",
    "# Which are the second top seller and least seller of product 0?\n",
    "union_table.where(col(\"product_id\") == 0).show()"
   ]
  },
  {
   "cell_type": "markdown",
   "id": "34e4da30",
   "metadata": {},
   "source": [
    "# Exercise 4\n",
    "\n",
    "Create a new column called \"hashed_bill\" defined as follows:\n",
    "\n",
    "- if the order_id is even: apply MD5 hashing iteratively to the bill_raw_text field, once for each 'A' (capital 'A') present in the text. E.g. if the bill text is 'nbAAnllA', you would apply hashing three times iteratively (only if the order number is even)\n",
    "- if the order_id is odd: apply SHA256 hashing to the bill text\n",
    "\n",
    "\n",
    "Finally, check if there are any duplicate on the new column\n",
    "\n",
    "\n",
    "For this final exercise, we simply need to apply a fancy algorithm. We can do that through UDFs (User Defined Functions). A UDF is a custom function that can be invoked on datafarmes columns; as a rule of thumb, we should usually try to avoid UDFs, since Spark is not really capable to optimize them: UDF code usually runs slower than the non-UDF counterpart. Unfortunately, we cannot apply the algorithm described just using Spark SQL functions."
   ]
  },
  {
   "cell_type": "code",
   "execution_count": 47,
   "id": "214d791b",
   "metadata": {},
   "outputs": [],
   "source": [
    "#   Init spark session\n",
    "spark = SparkSession.builder \\\n",
    "    .master(\"local\") \\\n",
    "    .config(\"spark.sql.autoBroadcastJoinThreshold\", -1) \\\n",
    "    .config(\"spark.executor.memory\", \"1g\") \\\n",
    "    .appName(\"Exercise1\") \\\n",
    "    .getOrCreate()\n",
    "\n",
    "#   Load source data\n",
    "products_table = spark.read.parquet(\"products_parquet\")\n",
    "sales_table = spark.read.parquet(\"sales_parquet\")\n",
    "sellers_table = spark.read.parquet(\"sellers_parquet\")"
   ]
  },
  {
   "cell_type": "code",
   "execution_count": 54,
   "id": "df73bc30",
   "metadata": {},
   "outputs": [],
   "source": [
    "#   Define the UDF function\n",
    "def algo(order_id, bill_text):\n",
    "    #   If number is even\n",
    "    ret = bill_text.encode(\"utf-8\")\n",
    "    if int(order_id) % 2 == 0:\n",
    "        #   Count number of 'A'\n",
    "        cnt_A = bill_text.count(\"A\")\n",
    "        for _c in range(0, cnt_A):\n",
    "            ret = hashlib.md5(ret).hexdigest().encode(\"utf-8\")\n",
    "        ret = ret.decode('utf-8')\n",
    "    else:\n",
    "        ret = hashlib.sha256(ret).hexdigest()\n",
    "    return ret\n",
    "\n",
    "#   Register the UDF function."
   ]
  },
  {
   "cell_type": "code",
   "execution_count": 55,
   "id": "7ee313b0",
   "metadata": {},
   "outputs": [],
   "source": [
    "algo_udf = spark.udf.register(\"algo\", algo)"
   ]
  },
  {
   "cell_type": "code",
   "execution_count": null,
   "id": "517111b9",
   "metadata": {},
   "outputs": [],
   "source": [
    "#   Use the `algo_udf` to apply the aglorithm and then check if there is any duplicate hash in the table\n",
    "sales_table.withColumn(\"hashed_bill\", algo_udf(col(\"order_id\"), col(\"bill_raw_text\")))\\\n",
    "    .groupby(col(\"hashed_bill\")).agg(count(\"*\").alias(\"cnt\")).where(col(\"cnt\") > 1).show()\n"
   ]
  },
  {
   "cell_type": "markdown",
   "id": "0f68745c",
   "metadata": {},
   "source": [
    "First, we need to define the UDF function: def algo(order_id, bill_text). The algo function receives the order_id and the bill_text as input.\n",
    "\n",
    "The UDF function implements the algorithm:\n",
    "\n",
    "1. Check if the order_id is even or odd.\n",
    "2. If order_id is even, count the number of capital ‘A’ in the bill text and iteratively apply MD5\n",
    "3. If order_id is odd, apply SHA256\n",
    "4. Return the hashed string\n",
    "\n",
    "\n",
    "Afterward, this function needs to be registered in the Spark Session through the line algo_udf = spark.udf.register(“algo”, algo). The first parameter is the name of the function within the Spark context while the second parameter is the actual function that will be executed.\n",
    "\n",
    "We apply the UDF at the following line:\n",
    "\n",
    "sales_table.withColumn(\"hashed_bill\", algo_udf(col(\"order_id\"), col(\"bill_raw_text\")))\n",
    "As you can see, the function takes two columns as input and it will be executed for each row (i.e. for each pair of order_id and bill_raw_text).\n",
    "\n",
    "In the final dataset, all the hashes should be different, so the query should return an empty dataset\n",
    "\n",
    "## Take Away\n",
    "\n",
    "If you completed all the exercises, congratulations! Those covered some very important topics about Spark SQL development:\n",
    "\n",
    "1. Joins Skewness: This is usually the main pain point in Spark pipelines; sometimes it is very difficult to solve, because it’s not easy to find a balance among all the factors that are involved in these operations.\n",
    "2. Window functions: Super useful, the only thing to remember is to first define the windowing.\n",
    "3. UDFs: Although they are very helpful, we should think twice before jumping into the development of such functions, since their execution might slow down our code.\n",
    "\n",
    "\n",
    "Help Source: https://towardsdatascience.com/six-spark-exercises-to-rule-them-all-242445b24565\n"
   ]
  },
  {
   "cell_type": "code",
   "execution_count": null,
   "id": "02afd136",
   "metadata": {},
   "outputs": [],
   "source": []
  }
 ],
 "metadata": {
  "kernelspec": {
   "display_name": "Python 3",
   "language": "python",
   "name": "python3"
  },
  "language_info": {
   "codemirror_mode": {
    "name": "ipython",
    "version": 3
   },
   "file_extension": ".py",
   "mimetype": "text/x-python",
   "name": "python",
   "nbconvert_exporter": "python",
   "pygments_lexer": "ipython3",
   "version": "3.8.8"
  }
 },
 "nbformat": 4,
 "nbformat_minor": 5
}
